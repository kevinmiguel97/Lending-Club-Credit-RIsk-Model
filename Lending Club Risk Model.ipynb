{
 "cells": [
  {
   "attachments": {},
   "cell_type": "markdown",
   "metadata": {},
   "source": [
    "# **Lending Club Credit Risk Model**"
   ]
  },
  {
   "cell_type": "code",
   "execution_count": 2,
   "metadata": {},
   "outputs": [],
   "source": [
    "# Libraries\n",
    "import pandas as pd\n",
    "import numpy as np\n",
    "import matplotlib.pyplot as plt\n",
    "import seaborn as sns\n",
    "import regex as re\n",
    "from LC_library import *\n",
    "\n",
    "# Settings \n",
    "pd.set_option('display.max_columns', None)\n",
    "pd.set_option('display.max_info_rows', 30)\n",
    "#pd.options.display.max_rows = None"
   ]
  },
  {
   "attachments": {},
   "cell_type": "markdown",
   "metadata": {},
   "source": [
    "# 1. Exploratory data analysis"
   ]
  },
  {
   "attachments": {},
   "cell_type": "markdown",
   "metadata": {},
   "source": [
    "## 1.1 Import data"
   ]
  },
  {
   "cell_type": "code",
   "execution_count": 3,
   "metadata": {},
   "outputs": [],
   "source": [
    "# Import Lending club data\n",
    "df_loans = pd.read_csv('DATA/loan_data_2007_2014.csv', index_col=0, dtype={'desc': object, 'purpose': object} )\n",
    "\n",
    "# Create a backup with the original dataframe\n",
    "df_backup = df_loans.copy()"
   ]
  },
  {
   "attachments": {},
   "cell_type": "markdown",
   "metadata": {},
   "source": [
    "## 1.2 Define columns\n",
    "The file LCDataDictionay.xlsx contains the description of the 78 variables that the dataset contains."
   ]
  },
  {
   "cell_type": "code",
   "execution_count": 4,
   "metadata": {},
   "outputs": [
    {
     "name": "stdout",
     "output_type": "stream",
     "text": [
      "<class 'pandas.core.frame.DataFrame'>\n",
      "Int64Index: 466285 entries, 0 to 466284\n",
      "Data columns (total 74 columns):\n",
      " #   Column                       Dtype  \n",
      "---  ------                       -----  \n",
      " 0   id                           int64  \n",
      " 1   member_id                    int64  \n",
      " 2   loan_amnt                    int64  \n",
      " 3   funded_amnt                  int64  \n",
      " 4   funded_amnt_inv              float64\n",
      " 5   term                         object \n",
      " 6   int_rate                     float64\n",
      " 7   installment                  float64\n",
      " 8   grade                        object \n",
      " 9   sub_grade                    object \n",
      " 10  emp_title                    object \n",
      " 11  emp_length                   object \n",
      " 12  home_ownership               object \n",
      " 13  annual_inc                   float64\n",
      " 14  verification_status          object \n",
      " 15  issue_d                      object \n",
      " 16  loan_status                  object \n",
      " 17  pymnt_plan                   object \n",
      " 18  url                          object \n",
      " 19  desc                         object \n",
      " 20  purpose                      object \n",
      " 21  title                        object \n",
      " 22  zip_code                     object \n",
      " 23  addr_state                   object \n",
      " 24  dti                          float64\n",
      " 25  delinq_2yrs                  float64\n",
      " 26  earliest_cr_line             object \n",
      " 27  inq_last_6mths               float64\n",
      " 28  mths_since_last_delinq       float64\n",
      " 29  mths_since_last_record       float64\n",
      " 30  open_acc                     float64\n",
      " 31  pub_rec                      float64\n",
      " 32  revol_bal                    int64  \n",
      " 33  revol_util                   float64\n",
      " 34  total_acc                    float64\n",
      " 35  initial_list_status          object \n",
      " 36  out_prncp                    float64\n",
      " 37  out_prncp_inv                float64\n",
      " 38  total_pymnt                  float64\n",
      " 39  total_pymnt_inv              float64\n",
      " 40  total_rec_prncp              float64\n",
      " 41  total_rec_int                float64\n",
      " 42  total_rec_late_fee           float64\n",
      " 43  recoveries                   float64\n",
      " 44  collection_recovery_fee      float64\n",
      " 45  last_pymnt_d                 object \n",
      " 46  last_pymnt_amnt              float64\n",
      " 47  next_pymnt_d                 object \n",
      " 48  last_credit_pull_d           object \n",
      " 49  collections_12_mths_ex_med   float64\n",
      " 50  mths_since_last_major_derog  float64\n",
      " 51  policy_code                  int64  \n",
      " 52  application_type             object \n",
      " 53  annual_inc_joint             float64\n",
      " 54  dti_joint                    float64\n",
      " 55  verification_status_joint    float64\n",
      " 56  acc_now_delinq               float64\n",
      " 57  tot_coll_amt                 float64\n",
      " 58  tot_cur_bal                  float64\n",
      " 59  open_acc_6m                  float64\n",
      " 60  open_il_6m                   float64\n",
      " 61  open_il_12m                  float64\n",
      " 62  open_il_24m                  float64\n",
      " 63  mths_since_rcnt_il           float64\n",
      " 64  total_bal_il                 float64\n",
      " 65  il_util                      float64\n",
      " 66  open_rv_12m                  float64\n",
      " 67  open_rv_24m                  float64\n",
      " 68  max_bal_bc                   float64\n",
      " 69  all_util                     float64\n",
      " 70  total_rev_hi_lim             float64\n",
      " 71  inq_fi                       float64\n",
      " 72  total_cu_tl                  float64\n",
      " 73  inq_last_12m                 float64\n",
      "dtypes: float64(46), int64(6), object(22)\n",
      "memory usage: 266.8+ MB\n"
     ]
    }
   ],
   "source": [
    "df_loans.info()"
   ]
  },
  {
   "attachments": {},
   "cell_type": "markdown",
   "metadata": {},
   "source": [
    "# 2. Data preprocessing\n",
    "\n",
    "**Variables to use**\n",
    "- annual_inc\n",
    "- delinq_2yrs\n",
    "- inq_last_6_mths\n",
    "- open_acc\n",
    "- pub_rec\n",
    "- total_acc\n",
    "- acc_now_delinq\n",
    "- total_rev_hi_lim \n",
    "- emp_lenght\n",
    "- mths_since_earliest_cr_line"
   ]
  },
  {
   "attachments": {},
   "cell_type": "markdown",
   "metadata": {},
   "source": [
    "## 2.1 Missing Values"
   ]
  },
  {
   "cell_type": "code",
   "execution_count": 5,
   "metadata": {},
   "outputs": [
    {
     "data": {
      "text/plain": [
       "inq_last_12m                   466285\n",
       "verification_status_joint      466285\n",
       "open_acc_6m                    466285\n",
       "open_il_6m                     466285\n",
       "open_il_12m                    466285\n",
       "open_il_24m                    466285\n",
       "mths_since_rcnt_il             466285\n",
       "dti_joint                      466285\n",
       "total_bal_il                   466285\n",
       "annual_inc_joint               466285\n",
       "il_util                        466285\n",
       "open_rv_12m                    466285\n",
       "open_rv_24m                    466285\n",
       "max_bal_bc                     466285\n",
       "all_util                       466285\n",
       "inq_fi                         466285\n",
       "total_cu_tl                    466285\n",
       "mths_since_last_record         403647\n",
       "mths_since_last_major_derog    367311\n",
       "desc                           340302\n",
       "mths_since_last_delinq         250351\n",
       "next_pymnt_d                   227214\n",
       "tot_coll_amt                    70276\n",
       "tot_cur_bal                     70276\n",
       "total_rev_hi_lim                70276\n",
       "emp_title                       27588\n",
       "emp_length                      21008\n",
       "last_pymnt_d                      376\n",
       "revol_util                        340\n",
       "collections_12_mths_ex_med        145\n",
       "last_credit_pull_d                 42\n",
       "open_acc                           29\n",
       "pub_rec                            29\n",
       "total_acc                          29\n",
       "inq_last_6mths                     29\n",
       "earliest_cr_line                   29\n",
       "delinq_2yrs                        29\n",
       "acc_now_delinq                     29\n",
       "title                              20\n",
       "annual_inc                          4\n",
       "collection_recovery_fee             0\n",
       "application_type                    0\n",
       "policy_code                         0\n",
       "last_pymnt_amnt                     0\n",
       "id                                  0\n",
       "recoveries                          0\n",
       "pymnt_plan                          0\n",
       "loan_amnt                           0\n",
       "funded_amnt                         0\n",
       "funded_amnt_inv                     0\n",
       "term                                0\n",
       "int_rate                            0\n",
       "installment                         0\n",
       "grade                               0\n",
       "sub_grade                           0\n",
       "home_ownership                      0\n",
       "verification_status                 0\n",
       "issue_d                             0\n",
       "loan_status                         0\n",
       "url                                 0\n",
       "total_rec_late_fee                  0\n",
       "purpose                             0\n",
       "zip_code                            0\n",
       "addr_state                          0\n",
       "dti                                 0\n",
       "revol_bal                           0\n",
       "initial_list_status                 0\n",
       "out_prncp                           0\n",
       "member_id                           0\n",
       "total_pymnt                         0\n",
       "total_pymnt_inv                     0\n",
       "total_rec_prncp                     0\n",
       "total_rec_int                       0\n",
       "out_prncp_inv                       0\n",
       "dtype: int64"
      ]
     },
     "execution_count": 5,
     "metadata": {},
     "output_type": "execute_result"
    }
   ],
   "source": [
    "pd.options.display.max_rows = None\n",
    "df_loans.isna().sum().sort_values(ascending=False)"
   ]
  },
  {
   "attachments": {},
   "cell_type": "markdown",
   "metadata": {},
   "source": [
    "## 2.2 Date columns\n",
    "\n",
    "The dataset contains a few columns that represent dates that come in a string format (e.g Jan-15: January 2015). We are converting them to date format and getting a few months since information. \n",
    "\n",
    "Since a lot of the data goes back to the 60's and datetime starts in the 70s data before 1970 is getting wrongly map to year 2060s, creating negative values for these observations. \n",
    "\n",
    "To solve this we are going to assign the MAX value to all negative observations."
   ]
  },
  {
   "cell_type": "code",
   "execution_count": 6,
   "metadata": {},
   "outputs": [
    {
     "data": {
      "text/html": [
       "<div>\n",
       "<style scoped>\n",
       "    .dataframe tbody tr th:only-of-type {\n",
       "        vertical-align: middle;\n",
       "    }\n",
       "\n",
       "    .dataframe tbody tr th {\n",
       "        vertical-align: top;\n",
       "    }\n",
       "\n",
       "    .dataframe thead th {\n",
       "        text-align: right;\n",
       "    }\n",
       "</style>\n",
       "<table border=\"1\" class=\"dataframe\">\n",
       "  <thead>\n",
       "    <tr style=\"text-align: right;\">\n",
       "      <th></th>\n",
       "      <th>earliest_cr_line_date</th>\n",
       "      <th>months_since_earliest_cr_line</th>\n",
       "      <th>issue_d_date</th>\n",
       "      <th>months_since_issue_d</th>\n",
       "    </tr>\n",
       "  </thead>\n",
       "  <tbody>\n",
       "    <tr>\n",
       "      <th>0</th>\n",
       "      <td>1985-01-01</td>\n",
       "      <td>395.0</td>\n",
       "      <td>2011-12-01</td>\n",
       "      <td>72</td>\n",
       "    </tr>\n",
       "    <tr>\n",
       "      <th>1</th>\n",
       "      <td>1999-04-01</td>\n",
       "      <td>224.0</td>\n",
       "      <td>2011-12-01</td>\n",
       "      <td>72</td>\n",
       "    </tr>\n",
       "    <tr>\n",
       "      <th>2</th>\n",
       "      <td>2001-11-01</td>\n",
       "      <td>193.0</td>\n",
       "      <td>2011-12-01</td>\n",
       "      <td>72</td>\n",
       "    </tr>\n",
       "    <tr>\n",
       "      <th>3</th>\n",
       "      <td>1996-02-01</td>\n",
       "      <td>262.0</td>\n",
       "      <td>2011-12-01</td>\n",
       "      <td>72</td>\n",
       "    </tr>\n",
       "    <tr>\n",
       "      <th>4</th>\n",
       "      <td>1996-01-01</td>\n",
       "      <td>263.0</td>\n",
       "      <td>2011-12-01</td>\n",
       "      <td>72</td>\n",
       "    </tr>\n",
       "  </tbody>\n",
       "</table>\n",
       "</div>"
      ],
      "text/plain": [
       "  earliest_cr_line_date  months_since_earliest_cr_line issue_d_date  \\\n",
       "0            1985-01-01                          395.0   2011-12-01   \n",
       "1            1999-04-01                          224.0   2011-12-01   \n",
       "2            2001-11-01                          193.0   2011-12-01   \n",
       "3            1996-02-01                          262.0   2011-12-01   \n",
       "4            1996-01-01                          263.0   2011-12-01   \n",
       "\n",
       "   months_since_issue_d  \n",
       "0                    72  \n",
       "1                    72  \n",
       "2                    72  \n",
       "3                    72  \n",
       "4                    72  "
      ]
     },
     "execution_count": 6,
     "metadata": {},
     "output_type": "execute_result"
    }
   ],
   "source": [
    "# List of date columns\n",
    "date_cols = ['earliest_cr_line', 'issue_d', 'next_pymnt_d']\n",
    "\n",
    "# Creating days since\n",
    "today = pd.Timestamp('2017-12-01')\n",
    "\n",
    "# Run process date from LC_library \n",
    "for col in date_cols:\n",
    "    process_date(df_loans, col, today)\n",
    "\n",
    "\n",
    "# Substitute negative values with max months\n",
    "df_loans['months_since_earliest_cr_line'] = df_loans['months_since_earliest_cr_line'].apply(lambda x: x if float(x) > 0 \n",
    "                                                                                            else df_loans['months_since_earliest_cr_line'].max())\n",
    "\n",
    "df_loans[['earliest_cr_line_date', 'months_since_earliest_cr_line', 'issue_d_date', 'months_since_issue_d']].head()"
   ]
  },
  {
   "attachments": {},
   "cell_type": "markdown",
   "metadata": {},
   "source": [
    "## 2.3 emp_lenght"
   ]
  },
  {
   "cell_type": "code",
   "execution_count": 7,
   "metadata": {},
   "outputs": [
    {
     "name": "stdout",
     "output_type": "stream",
     "text": [
      "['10+ years' '< 1 year' '1 year' '3 years' '8 years' '9 years' '4 years'\n",
      " '5 years' '6 years' '2 years' '7 years' nan]\n",
      "[10.  0.  1.  3.  8.  9.  4.  5.  6.  2.  7. nan]\n"
     ]
    }
   ],
   "source": [
    "# Check for all unique values of the column\n",
    "print(df_loans['emp_length'].unique())\n",
    "\n",
    "# Replace strings \n",
    "df_loans['emp_length_int'] = df_loans['emp_length'].str.replace('\\+ years', '', regex=True)\n",
    "df_loans['emp_length_int'] = df_loans['emp_length_int'].str.replace('< 1 year', '0', regex=True)\n",
    "df_loans['emp_length_int'] = df_loans['emp_length_int'].str.replace('years', '', regex=True)\n",
    "df_loans['emp_length_int'] = df_loans['emp_length_int'].str.replace('year', '', regex=True)\n",
    "\n",
    "# Convert to numeric\n",
    "df_loans['emp_length_int'] = pd.to_numeric(df_loans['emp_length_int'])\n",
    "\n",
    "# Check values\n",
    "print(df_loans['emp_length_int'].unique())"
   ]
  },
  {
   "attachments": {},
   "cell_type": "markdown",
   "metadata": {},
   "source": [
    "## 2.4 term"
   ]
  },
  {
   "cell_type": "code",
   "execution_count": 8,
   "metadata": {},
   "outputs": [
    {
     "data": {
      "text/plain": [
       "array([36, 60])"
      ]
     },
     "execution_count": 8,
     "metadata": {},
     "output_type": "execute_result"
    }
   ],
   "source": [
    "# Original values contain month\n",
    "df_loans['term'].unique()\n",
    "\n",
    "# Replace months with blank\n",
    "df_loans['term_int'] = df_loans['term'].str.replace(' months', '').str.replace(' ', '')\n",
    "\n",
    "# Convert to numeric\n",
    "df_loans['term_int'] = df_loans['term_int'].astype(int)\n",
    "\n",
    "df_loans['term_int'].unique()"
   ]
  },
  {
   "attachments": {},
   "cell_type": "markdown",
   "metadata": {},
   "source": [
    "## 2.5 Create dummy variables for categorical columns:\n",
    "- *grade*\n",
    "- *sub_grade*\n",
    "- *home ownership*\n",
    "- *verification_status*\n",
    "- *loan_status*\n",
    "- *purpose*\n",
    "- *addr_state*\n",
    "- *initial_list_status*"
   ]
  },
  {
   "cell_type": "code",
   "execution_count": 9,
   "metadata": {},
   "outputs": [],
   "source": [
    "# Grade dummies\n",
    "dummies =[pd.get_dummies(df_loans['grade'], prefix='grade', prefix_sep='_'),\n",
    "                pd.get_dummies(df_loans['sub_grade'], prefix='sub_grade', prefix_sep='_'),\n",
    "                pd.get_dummies(df_loans['home_ownership'], prefix='home_ownership', prefix_sep='_'),\n",
    "                pd.get_dummies(df_loans['verification_status'], prefix='verification_status', prefix_sep='_'),\n",
    "                pd.get_dummies(df_loans['loan_status'], prefix='loan_status', prefix_sep='_'),\n",
    "                pd.get_dummies(df_loans['purpose'], prefix='purpose', prefix_sep='_'),\n",
    "                pd.get_dummies(df_loans['addr_state'], prefix='addr_state', prefix_sep='_'),\n",
    "                pd.get_dummies(df_loans['initial_list_status'], prefix='initial_list_status', prefix_sep='_'),\n",
    "                \n",
    "                ]\n",
    "loan_dummies = pd.concat(dummies, axis=1)\n",
    "\n",
    "# Add dummies to main dataframe\n",
    "loan_dummies = pd.concat([df_loans, loan_dummies], axis=1)"
   ]
  },
  {
   "attachments": {},
   "cell_type": "markdown",
   "metadata": {},
   "source": [
    "## 2.6 Checking for missing values"
   ]
  },
  {
   "cell_type": "code",
   "execution_count": 12,
   "metadata": {},
   "outputs": [
    {
     "data": {
      "text/plain": [
       "max_bal_bc                       466285\n",
       "dti_joint                        466285\n",
       "open_il_24m                      466285\n",
       "open_acc_6m                      466285\n",
       "mths_since_rcnt_il               466285\n",
       "total_bal_il                     466285\n",
       "il_util                          466285\n",
       "verification_status_joint        466285\n",
       "open_rv_12m                      466285\n",
       "open_rv_24m                      466285\n",
       "open_il_12m                      466285\n",
       "all_util                         466285\n",
       "inq_fi                           466285\n",
       "open_il_6m                       466285\n",
       "total_cu_tl                      466285\n",
       "inq_last_12m                     466285\n",
       "annual_inc_joint                 466285\n",
       "mths_since_last_record           403647\n",
       "mths_since_last_major_derog      367311\n",
       "desc                             340302\n",
       "mths_since_last_delinq           250351\n",
       "months_since_next_pymnt_d        227214\n",
       "next_pymnt_d_date                227214\n",
       "next_pymnt_d                     227214\n",
       "total_rev_hi_lim                  70276\n",
       "tot_coll_amt                      70276\n",
       "tot_cur_bal                       70276\n",
       "emp_title                         27588\n",
       "emp_length                        21008\n",
       "emp_length_int                    21008\n",
       "last_pymnt_d                        376\n",
       "revol_util                          340\n",
       "collections_12_mths_ex_med          145\n",
       "last_credit_pull_d                   42\n",
       "acc_now_delinq                       29\n",
       "delinq_2yrs                          29\n",
       "total_acc                            29\n",
       "pub_rec                              29\n",
       "open_acc                             29\n",
       "inq_last_6mths                       29\n",
       "earliest_cr_line                     29\n",
       "earliest_cr_line_date                29\n",
       "title                                20\n",
       "annual_inc                            4\n",
       "application_type                      0\n",
       "months_since_earliest_cr_line         0\n",
       "policy_code                           0\n",
       "issue_d_date                          0\n",
       "months_since_issue_d                  0\n",
       "id                                    0\n",
       "total_rec_int                         0\n",
       "last_pymnt_amnt                       0\n",
       "url                                   0\n",
       "loan_amnt                             0\n",
       "funded_amnt                           0\n",
       "funded_amnt_inv                       0\n",
       "term                                  0\n",
       "int_rate                              0\n",
       "installment                           0\n",
       "grade                                 0\n",
       "sub_grade                             0\n",
       "home_ownership                        0\n",
       "verification_status                   0\n",
       "issue_d                               0\n",
       "loan_status                           0\n",
       "pymnt_plan                            0\n",
       "purpose                               0\n",
       "collection_recovery_fee               0\n",
       "zip_code                              0\n",
       "addr_state                            0\n",
       "dti                                   0\n",
       "revol_bal                             0\n",
       "initial_list_status                   0\n",
       "out_prncp                             0\n",
       "out_prncp_inv                         0\n",
       "total_pymnt                           0\n",
       "total_pymnt_inv                       0\n",
       "total_rec_prncp                       0\n",
       "member_id                             0\n",
       "total_rec_late_fee                    0\n",
       "recoveries                            0\n",
       "term_int                              0\n",
       "dtype: int64"
      ]
     },
     "execution_count": 12,
     "metadata": {},
     "output_type": "execute_result"
    }
   ],
   "source": [
    "pd.options.display.max_rows = None\n",
    "df_loans.isnull().sum().sort_values(ascending=False)"
   ]
  },
  {
   "cell_type": "code",
   "execution_count": null,
   "metadata": {},
   "outputs": [],
   "source": []
  }
 ],
 "metadata": {
  "kernelspec": {
   "display_name": "base",
   "language": "python",
   "name": "python3"
  },
  "language_info": {
   "codemirror_mode": {
    "name": "ipython",
    "version": 3
   },
   "file_extension": ".py",
   "mimetype": "text/x-python",
   "name": "python",
   "nbconvert_exporter": "python",
   "pygments_lexer": "ipython3",
   "version": "3.8.5"
  },
  "orig_nbformat": 4
 },
 "nbformat": 4,
 "nbformat_minor": 2
}
